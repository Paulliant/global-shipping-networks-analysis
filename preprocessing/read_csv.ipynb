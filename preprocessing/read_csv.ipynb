{
 "cells": [
  {
   "cell_type": "code",
   "execution_count": 2,
   "metadata": {},
   "outputs": [
    {
     "name": "stdout",
     "output_type": "stream",
     "text": [
      "Empty DataFrame\n",
      "Columns: [CommType, ID, ReceiveTime, SourceID, MsgId, PosTime, Lon, Lat, Cog, Sog, TrueHeading, NavigationStatus, ROT, PosAccuracy, A, B, C, D, E, F, G, H]\n",
      "Index: []\n",
      "\n",
      "[0 rows x 22 columns]\n",
      "      CommType         ID          ReceiveTime  SourceID  MsgId  \\\n",
      "0            1  413375690  2020-02-01 00:00:00         9      1   \n",
      "1            1  414097000  2020-02-01 00:00:00         9      1   \n",
      "2            1  412767110  2020-02-01 00:00:00         9      1   \n",
      "3            1  413989946  2020-02-01 00:00:00         9      1   \n",
      "4            1  413781673  2020-02-01 00:00:00         9      1   \n",
      "...        ...        ...                  ...       ...    ...   \n",
      "9995         1  538005174  2020-02-01 00:00:15         7      1   \n",
      "9996         1  319602000  2020-02-01 00:00:15         7      1   \n",
      "9997         1  367003380  2020-02-01 00:00:15         7      3   \n",
      "9998         1  477390400  2020-02-01 00:00:15         7      1   \n",
      "9999         1  310459000  2020-02-01 00:00:15         7      1   \n",
      "\n",
      "                  PosTime        Lon       Lat     Cog    Sog  ...   ROT  \\\n",
      "0     2020-02-01 00:00:00   70777785  23366839   964.0   73.0  ...   0.0   \n",
      "1     2020-02-01 00:00:00   73522970  19785650  1850.0  112.0  ...   0.0   \n",
      "2     2020-02-01 00:00:00   73021807  17968852  2773.0   50.0  ...   NaN   \n",
      "3     2020-02-01 00:00:00   72091289  19167192     NaN    0.0  ...   0.0   \n",
      "4     2020-02-01 00:00:00   71685224  19363800  3030.0   15.0  ...   NaN   \n",
      "...                   ...        ...       ...     ...    ...  ...   ...   \n",
      "9995  2020-01-31 23:59:54 -101109083  24069451   922.0  142.0  ...   0.0   \n",
      "9996  2020-01-31 23:59:55  -80795340  15828520  1000.0  137.0  ... -12.0   \n",
      "9997  2020-01-31 23:59:56  -87589000  14204600   670.0  180.0  ... -16.0   \n",
      "9998  2020-01-31 23:59:57  -83113655  22538819  1184.0  207.0  ...   0.0   \n",
      "9999  2020-01-31 23:59:55  -87853620  16857440  2404.0  196.0  ...  -8.0   \n",
      "\n",
      "      PosAccuracy   A  B    C   D   E   F   G   H  \n",
      "0               0   0  0  0.0 NaN NaN NaN NaN NaN  \n",
      "1               1  59  0  0.0 NaN NaN NaN NaN NaN  \n",
      "2               0  59  0  1.0 NaN NaN NaN NaN NaN  \n",
      "3               0  59  0  0.0 NaN NaN NaN NaN NaN  \n",
      "4               0  59  0  0.0 NaN NaN NaN NaN NaN  \n",
      "...           ...  .. ..  ...  ..  ..  ..  ..  ..  \n",
      "9995            1  54  0  0.0 NaN NaN NaN NaN NaN  \n",
      "9996            0  55  0  0.0 NaN NaN NaN NaN NaN  \n",
      "9997            0  56  0  0.0 NaN NaN NaN NaN NaN  \n",
      "9998            0  57  0  0.0 NaN NaN NaN NaN NaN  \n",
      "9999            1  55  0  0.0 NaN NaN NaN NaN NaN  \n",
      "\n",
      "[10000 rows x 22 columns]\n"
     ]
    }
   ],
   "source": [
    "import pandas as pd\n",
    "\n",
    "file_path = \"/mnt/nas/fan/ais_ripe_log/2020/02/POS/2020-02-01.csv\"\n",
    "# file_path = \"/mnt/nas/fan/ais_ripe_log/2022/01/STA/2022-01-15.csv\"\n",
    "# file_path = \"/mnt/nas/fan/ais_ripe_log/2022/01/POS/2022-01-15.csv\"\n",
    "# file_path = \"../Network Analysis/result/stay_points_0101_updatedpub150.csv\"\n",
    "\n",
    "# with open(file_path, 'r', encoding='utf-8') as f:\n",
    "#     header = next(f, None)\n",
    "#     total_lines = sum(1 for _ in f)\n",
    "# print(total_lines)\n",
    "\n",
    "df = pd.read_csv(file_path, nrows=10000)\n",
    "\n",
    "print(df.head(0))\n",
    "\n",
    "print(df)\n",
    "\n",
    "df.to_csv('tmp.csv',index=False)"
   ]
  }
 ],
 "metadata": {
  "kernelspec": {
   "display_name": "ship",
   "language": "python",
   "name": "python3"
  },
  "language_info": {
   "codemirror_mode": {
    "name": "ipython",
    "version": 3
   },
   "file_extension": ".py",
   "mimetype": "text/x-python",
   "name": "python",
   "nbconvert_exporter": "python",
   "pygments_lexer": "ipython3",
   "version": "3.10.16"
  }
 },
 "nbformat": 4,
 "nbformat_minor": 2
}
