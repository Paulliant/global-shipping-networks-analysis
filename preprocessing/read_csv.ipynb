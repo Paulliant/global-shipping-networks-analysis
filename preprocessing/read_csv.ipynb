{
 "cells": [
  {
   "cell_type": "code",
   "execution_count": null,
   "metadata": {},
   "outputs": [
    {
     "name": "stdout",
     "output_type": "stream",
     "text": [
      "Empty DataFrame\n",
      "Columns: [CommType, ID, ReceiveTime, SourceID, MsgId, PosTime, Lon, Lat, Cog, Sog, TrueHeading, NavigationStatus, ROT, PosAccuracy, A, B, C, D, E, F, G, H]\n",
      "Index: []\n",
      "\n",
      "[0 rows x 22 columns]\n",
      "      CommType         ID          ReceiveTime  SourceID  MsgId  \\\n",
      "0            1  273399370  2022-01-15 00:00:02         2      3   \n",
      "1            1  244620640  2022-01-15 00:00:02         7      1   \n",
      "2            1  373406000  2022-01-15 00:00:02         7      1   \n",
      "3            1  367360360  2022-01-15 00:00:02         7      1   \n",
      "4            1  367622660  2022-01-15 00:00:02         7      1   \n",
      "...        ...        ...                  ...       ...    ...   \n",
      "9995         1  244001719  2022-01-15 00:00:08         7      1   \n",
      "9996         1  211541040  2022-01-15 00:00:08         7      1   \n",
      "9997         1  236729000  2022-01-15 00:00:08         7      3   \n",
      "9998         1  538006590  2022-01-15 00:00:08         7      3   \n",
      "9999         1  305642000  2022-01-15 00:00:08         7      1   \n",
      "\n",
      "                  PosTime       Lon       Lat     Cog    Sog  ...    ROT  \\\n",
      "0     2022-01-15 00:00:01  12069279  32793915     NaN    0.0  ...    NaN   \n",
      "1     2022-01-15 00:00:01   4002870  31947727  2390.0   52.0  ...    0.0   \n",
      "2     2022-01-15 00:00:00  17400185  24508712  1147.0   74.0  ...    0.0   \n",
      "3     2022-01-15 00:00:02 -54181870  17409290   530.0  168.0  ... -127.0   \n",
      "4     2022-01-15 00:00:01 -54120798  17471314  2927.0    0.0  ...    0.0   \n",
      "...                   ...       ...       ...     ...    ...  ...    ...   \n",
      "9995  2022-01-15 00:00:07   2570303  31135690     NaN    0.0  ...    NaN   \n",
      "9996  2022-01-15 00:00:07   5170732  31900107     0.0    0.0  ...    NaN   \n",
      "9997  2022-01-15 00:00:07    894830  31163250   778.0  132.0  ...    0.0   \n",
      "9998  2022-01-15 00:00:01  60789068   1781708   748.0    0.0  ...    0.0   \n",
      "9999  2022-01-15 00:00:08   4034817  32275320   627.0  101.0  ...  -12.0   \n",
      "\n",
      "      PosAccuracy   A  B    C   D   E   F   G   H  \n",
      "0               1   1  0  0.0 NaN NaN NaN NaN NaN  \n",
      "1               1   1  0  0.0 NaN NaN NaN NaN NaN  \n",
      "2               1   0  0  1.0 NaN NaN NaN NaN NaN  \n",
      "3               0  60  0  0.0 NaN NaN NaN NaN NaN  \n",
      "4               0   1  0  0.0 NaN NaN NaN NaN NaN  \n",
      "...           ...  .. ..  ...  ..  ..  ..  ..  ..  \n",
      "9995            1   7  0  1.0 NaN NaN NaN NaN NaN  \n",
      "9996            1   7  0  1.0 NaN NaN NaN NaN NaN  \n",
      "9997            0   7  0  0.0 NaN NaN NaN NaN NaN  \n",
      "9998            1   1  0  0.0 NaN NaN NaN NaN NaN  \n",
      "9999            0   8  0  0.0 NaN NaN NaN NaN NaN  \n",
      "\n",
      "[10000 rows x 22 columns]\n"
     ]
    }
   ],
   "source": [
    "import pandas as pd\n",
    "\n",
    "# file_path = \"/mnt/nas/fan/ais_ripe_log/2022/01/STA/2022-01-15.csv\"\n",
    "file_path = \"/mnt/nas/fan/ais_ripe_log/2022/01/POS/2022-01-15.csv\"\n",
    "# file_path = \"../Network Analysis/result/stay_points_0101_updatedpub150.csv\"\n",
    "\n",
    "# with open(file_path, 'r', encoding='utf-8') as f:\n",
    "#     header = next(f, None)\n",
    "#     total_lines = sum(1 for _ in f)\n",
    "# print(total_lines)\n",
    "\n",
    "df = pd.read_csv(file_path, nrows=10000)\n",
    "\n",
    "print(df.head(0))\n",
    "\n",
    "print(df)\n",
    "\n",
    "df.to_csv('tmp.csv',index=False)"
   ]
  }
 ],
 "metadata": {
  "kernelspec": {
   "display_name": "ship",
   "language": "python",
   "name": "python3"
  },
  "language_info": {
   "codemirror_mode": {
    "name": "ipython",
    "version": 3
   },
   "file_extension": ".py",
   "mimetype": "text/x-python",
   "name": "python",
   "nbconvert_exporter": "python",
   "pygments_lexer": "ipython3",
   "version": "3.10.16"
  }
 },
 "nbformat": 4,
 "nbformat_minor": 2
}
