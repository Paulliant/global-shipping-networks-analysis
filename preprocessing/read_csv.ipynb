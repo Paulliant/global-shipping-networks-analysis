{
 "cells": [
  {
   "cell_type": "code",
   "execution_count": 1,
   "metadata": {},
   "outputs": [
    {
     "name": "stdout",
     "output_type": "stream",
     "text": [
      "Empty DataFrame\n",
      "Columns: [CommType, ID, ReceiveTime, SourceID, MsgId, PosTime, Lon, Lat, Cog, Sog, TrueHeading, NavigationStatus, ROT, PosAccuracy, A, B, C, D, E, F, G, H]\n",
      "Index: []\n",
      "\n",
      "[0 rows x 22 columns]\n",
      "       CommType         ID          ReceiveTime  SourceID  MsgId  \\\n",
      "0             1  273399370  2022-01-15 00:00:02         2      3   \n",
      "1             1  244620640  2022-01-15 00:00:02         7      1   \n",
      "2             1  373406000  2022-01-15 00:00:02         7      1   \n",
      "3             1  367360360  2022-01-15 00:00:02         7      1   \n",
      "4             1  367622660  2022-01-15 00:00:02         7      1   \n",
      "...         ...        ...                  ...       ...    ...   \n",
      "99995         1  244901000  2022-01-15 00:00:56         7      1   \n",
      "99996         1  205276490  2022-01-15 00:00:56         7      1   \n",
      "99997         1  353287000  2022-01-15 00:00:56         7      1   \n",
      "99998         1  567017000  2022-01-15 00:00:56         7      3   \n",
      "99999         1  215648000  2022-01-15 00:00:56         7      3   \n",
      "\n",
      "                   PosTime       Lon       Lat     Cog    Sog  ...    ROT  \\\n",
      "0      2022-01-15 00:00:01  12069279  32793915     NaN    0.0  ...    NaN   \n",
      "1      2022-01-15 00:00:01   4002870  31947727  2390.0   52.0  ...    0.0   \n",
      "2      2022-01-15 00:00:00  17400185  24508712  1147.0   74.0  ...    0.0   \n",
      "3      2022-01-15 00:00:02 -54181870  17409290   530.0  168.0  ... -127.0   \n",
      "4      2022-01-15 00:00:01 -54120798  17471314  2927.0    0.0  ...    0.0   \n",
      "...                    ...       ...       ...     ...    ...  ...    ...   \n",
      "99995  2022-01-15 00:00:54  16145044  36254730  3317.0    0.0  ...    0.0   \n",
      "99996  2022-01-15 00:00:55   2830959  31092371  2247.0    0.0  ...    NaN   \n",
      "99997  2022-01-15 00:00:50    893370  30539186   249.0  145.0  ...    0.0   \n",
      "99998  2022-01-15 00:00:52    767591  24652809   350.0    1.0  ...    0.0   \n",
      "99999  2022-01-15 00:00:55    901849  30874919  3110.0  143.0  ...    5.0   \n",
      "\n",
      "       PosAccuracy   A  B    C   D   E   F   G   H  \n",
      "0                1   1  0  0.0 NaN NaN NaN NaN NaN  \n",
      "1                1   1  0  0.0 NaN NaN NaN NaN NaN  \n",
      "2                1   0  0  1.0 NaN NaN NaN NaN NaN  \n",
      "3                0  60  0  0.0 NaN NaN NaN NaN NaN  \n",
      "4                0   1  0  0.0 NaN NaN NaN NaN NaN  \n",
      "...            ...  .. ..  ...  ..  ..  ..  ..  ..  \n",
      "99995            1  54  0  0.0 NaN NaN NaN NaN NaN  \n",
      "99996            1  60  0  1.0 NaN NaN NaN NaN NaN  \n",
      "99997            1  50  0  0.0 NaN NaN NaN NaN NaN  \n",
      "99998            1  52  0  0.0 NaN NaN NaN NaN NaN  \n",
      "99999            1  55  0  0.0 NaN NaN NaN NaN NaN  \n",
      "\n",
      "[100000 rows x 22 columns]\n"
     ]
    }
   ],
   "source": [
    "import pandas as pd\n",
    "\n",
    "# file_path = \"/mnt/nas/fan/ais_ripe_log/2020/02/POS/2020-02-01.csv\"\n",
    "# file_path = \"/mnt/nas/fan/ais_ripe_log/2022/01/STA/2022-01-15.csv\"\n",
    "file_path = \"/mnt/nas/fan/ais_ripe_log/2022/01/POS/2022-01-15.csv\"\n",
    "# file_path = \"../Network Analysis/result/stay_points_0101_updatedpub150.csv\"\n",
    "\n",
    "# with open(file_path, 'r', encoding='utf-8') as f:\n",
    "#     header = next(f, None)\n",
    "#     total_lines = sum(1 for _ in f)\n",
    "# print(total_lines)\n",
    "\n",
    "df = pd.read_csv(file_path, nrows=100000)\n",
    "\n",
    "print(df.head(0))\n",
    "\n",
    "print(df)\n",
    "\n",
    "df.to_csv('tmp.csv',index=False)"
   ]
  }
 ],
 "metadata": {
  "kernelspec": {
   "display_name": "ship",
   "language": "python",
   "name": "python3"
  },
  "language_info": {
   "codemirror_mode": {
    "name": "ipython",
    "version": 3
   },
   "file_extension": ".py",
   "mimetype": "text/x-python",
   "name": "python",
   "nbconvert_exporter": "python",
   "pygments_lexer": "ipython3",
   "version": "3.10.16"
  }
 },
 "nbformat": 4,
 "nbformat_minor": 2
}
