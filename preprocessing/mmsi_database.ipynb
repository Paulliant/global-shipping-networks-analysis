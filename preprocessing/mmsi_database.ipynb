{
 "cells": [
  {
   "cell_type": "code",
   "execution_count": null,
   "metadata": {},
   "outputs": [],
   "source": [
    "#!/usr/bin/env python3\n",
    "import os\n",
    "import sqlite3\n",
    "import pandas as pd\n",
    "from glob import glob\n",
    "from tqdm import tqdm\n",
    "\n",
    "# --------------------------\n",
    "# 配置部分\n",
    "# --------------------------\n",
    "# 手动指定待扫描的文件夹列表（这些文件夹中存放 -mmsi.csv 文件）\n",
    "dir_list = [\n",
    "    \"/mnt/nas/fan/ais_ripe_log/2022/01/STA\",\n",
    "    \"/mnt/nas/fan/ais_ripe_log/2022/02/STA\"\n",
    "]\n",
    "\n",
    "# 数据库文件（这里使用一个 SQLite 数据库文件，里面包含两个表）\n",
    "db_file = \"data/mmsi_database.db\""
   ]
  },
  {
   "cell_type": "code",
   "execution_count": 6,
   "metadata": {},
   "outputs": [],
   "source": [
    "# --------------------------\n",
    "# 数据库初始化\n",
    "# --------------------------\n",
    "\n",
    "conn = sqlite3.connect(db_file)\n",
    "cursor = conn.cursor()\n",
    "\n",
    "# 建立存储 MMSI 记录的表，以 MMSI 为主键\n",
    "cursor.execute('''\n",
    "CREATE TABLE IF NOT EXISTS mmsi_records (\n",
    "    MMSI TEXT PRIMARY KEY,\n",
    "    MsgId TEXT,\n",
    "    ShipType TEXT,\n",
    "    ShipName TEXT,\n",
    "    Callsign TEXT\n",
    ")\n",
    "''')\n",
    "\n",
    "# 建立记录已处理文件的表，文件名作为主键\n",
    "cursor.execute('''\n",
    "CREATE TABLE IF NOT EXISTS processed_files (\n",
    "    filename TEXT PRIMARY KEY,\n",
    "    error_count INTEGER,\n",
    "    total_count INTEGER\n",
    ")\n",
    "''')\n",
    "conn.commit()\n",
    "\n",
    "# 关闭数据库连接\n",
    "conn.close()"
   ]
  },
  {
   "cell_type": "code",
   "execution_count": null,
   "metadata": {},
   "outputs": [
    {
     "name": "stdout",
     "output_type": "stream",
     "text": [
      "正在处理文件：/mnt/nas/fan/ais_ripe_log/2022/01/STA/2022-01-15-mmsi.csv\n"
     ]
    },
    {
     "name": "stderr",
     "output_type": "stream",
     "text": [
      "处理 2022-01-15-mmsi.csv: 100%|██████████| 775992/775992 [00:23<00:00, 32982.85it/s]\n"
     ]
    },
    {
     "name": "stdout",
     "output_type": "stream",
     "text": [
      "文件 /mnt/nas/fan/ais_ripe_log/2022/01/STA/2022-01-15-mmsi.csv 处理完毕：错误 156766/775992，错误率 20.20%\n",
      "正在处理文件：/mnt/nas/fan/ais_ripe_log/2022/01/STA/2022-01-01-mmsi.csv\n"
     ]
    },
    {
     "name": "stderr",
     "output_type": "stream",
     "text": [
      "处理 2022-01-01-mmsi.csv: 100%|██████████| 754908/754908 [00:24<00:00, 31051.96it/s]\n"
     ]
    },
    {
     "name": "stdout",
     "output_type": "stream",
     "text": [
      "文件 /mnt/nas/fan/ais_ripe_log/2022/01/STA/2022-01-01-mmsi.csv 处理完毕：错误 169768/754908，错误率 22.49%\n",
      "正在处理文件：/mnt/nas/fan/ais_ripe_log/2022/01/STA/2022-01-02-mmsi.csv\n"
     ]
    },
    {
     "name": "stderr",
     "output_type": "stream",
     "text": [
      "处理 2022-01-02-mmsi.csv: 100%|██████████| 746147/746147 [00:24<00:00, 31033.59it/s]\n"
     ]
    },
    {
     "name": "stdout",
     "output_type": "stream",
     "text": [
      "文件 /mnt/nas/fan/ais_ripe_log/2022/01/STA/2022-01-02-mmsi.csv 处理完毕：错误 169780/746147，错误率 22.75%\n",
      "正在处理文件：/mnt/nas/fan/ais_ripe_log/2022/01/STA/2022-01-03-mmsi.csv\n"
     ]
    },
    {
     "name": "stderr",
     "output_type": "stream",
     "text": [
      "处理 2022-01-03-mmsi.csv: 100%|██████████| 761861/761861 [00:23<00:00, 32234.57it/s]\n"
     ]
    },
    {
     "name": "stdout",
     "output_type": "stream",
     "text": [
      "文件 /mnt/nas/fan/ais_ripe_log/2022/01/STA/2022-01-03-mmsi.csv 处理完毕：错误 173494/761861，错误率 22.77%\n",
      "正在处理文件：/mnt/nas/fan/ais_ripe_log/2022/01/STA/2022-01-04-mmsi.csv\n"
     ]
    },
    {
     "name": "stderr",
     "output_type": "stream",
     "text": [
      "处理 2022-01-04-mmsi.csv: 100%|██████████| 782790/782790 [00:24<00:00, 31701.54it/s]\n"
     ]
    },
    {
     "name": "stdout",
     "output_type": "stream",
     "text": [
      "文件 /mnt/nas/fan/ais_ripe_log/2022/01/STA/2022-01-04-mmsi.csv 处理完毕：错误 181620/782790，错误率 23.20%\n",
      "正在处理文件：/mnt/nas/fan/ais_ripe_log/2022/01/STA/2022-01-05-mmsi.csv\n"
     ]
    },
    {
     "name": "stderr",
     "output_type": "stream",
     "text": [
      "/tmp/ipykernel_3211049/2298892858.py:23: DtypeWarning: Columns (1,3) have mixed types. Specify dtype option on import or set low_memory=False.\n",
      "  df = pd.read_csv(file_path, delimiter=\",\")\n",
      "处理 2022-01-05-mmsi.csv: 100%|██████████| 787683/787683 [00:24<00:00, 32670.22it/s]\n"
     ]
    },
    {
     "name": "stdout",
     "output_type": "stream",
     "text": [
      "文件 /mnt/nas/fan/ais_ripe_log/2022/01/STA/2022-01-05-mmsi.csv 处理完毕：错误 184081/787683，错误率 23.37%\n",
      "正在处理文件：/mnt/nas/fan/ais_ripe_log/2022/01/STA/2022-01-06-mmsi.csv\n"
     ]
    },
    {
     "name": "stderr",
     "output_type": "stream",
     "text": [
      "处理 2022-01-06-mmsi.csv: 100%|██████████| 772118/772118 [00:23<00:00, 32784.44it/s]\n"
     ]
    },
    {
     "name": "stdout",
     "output_type": "stream",
     "text": [
      "文件 /mnt/nas/fan/ais_ripe_log/2022/01/STA/2022-01-06-mmsi.csv 处理完毕：错误 178495/772118，错误率 23.12%\n",
      "正在处理文件：/mnt/nas/fan/ais_ripe_log/2022/01/STA/2022-01-07-mmsi.csv\n"
     ]
    },
    {
     "name": "stderr",
     "output_type": "stream",
     "text": [
      "/tmp/ipykernel_3211049/2298892858.py:23: DtypeWarning: Columns (1) have mixed types. Specify dtype option on import or set low_memory=False.\n",
      "  df = pd.read_csv(file_path, delimiter=\",\")\n",
      "处理 2022-01-07-mmsi.csv:  91%|█████████ | 705944/775830 [00:22<00:02, 31558.89it/s]\n"
     ]
    },
    {
     "ename": "KeyboardInterrupt",
     "evalue": "",
     "output_type": "error",
     "traceback": [
      "\u001b[0;31m---------------------------------------------------------------------------\u001b[0m",
      "\u001b[0;31mKeyboardInterrupt\u001b[0m                         Traceback (most recent call last)",
      "Cell \u001b[0;32mIn[7], line 48\u001b[0m\n\u001b[1;32m     46\u001b[0m         db_msgid, db_shiptype, db_shipname, db_callsign \u001b[38;5;241m=\u001b[39m result\n\u001b[1;32m     47\u001b[0m         new_values \u001b[38;5;241m=\u001b[39m (\u001b[38;5;28mstr\u001b[39m(row[\u001b[38;5;124m'\u001b[39m\u001b[38;5;124mMsgId\u001b[39m\u001b[38;5;124m'\u001b[39m]), \u001b[38;5;28mstr\u001b[39m(row[\u001b[38;5;124m'\u001b[39m\u001b[38;5;124mShipType\u001b[39m\u001b[38;5;124m'\u001b[39m]), \u001b[38;5;28mstr\u001b[39m(row[\u001b[38;5;124m'\u001b[39m\u001b[38;5;124mShipName\u001b[39m\u001b[38;5;124m'\u001b[39m]), \u001b[38;5;28mstr\u001b[39m(row[\u001b[38;5;124m'\u001b[39m\u001b[38;5;124mCallsign\u001b[39m\u001b[38;5;124m'\u001b[39m]))\n\u001b[0;32m---> 48\u001b[0m         \u001b[38;5;28;01mif\u001b[39;00m (\u001b[38;5;28mstr\u001b[39m(db_msgid), \u001b[38;5;28mstr\u001b[39m(db_shiptype), \u001b[38;5;28mstr\u001b[39m(db_shipname), \u001b[38;5;28mstr\u001b[39m(db_callsign)) \u001b[38;5;241m!=\u001b[39m new_values:\n\u001b[1;32m     49\u001b[0m             error_count \u001b[38;5;241m+\u001b[39m\u001b[38;5;241m=\u001b[39m \u001b[38;5;241m1\u001b[39m\n\u001b[1;32m     51\u001b[0m \u001b[38;5;66;03m# 提交本次文件的记录更新\u001b[39;00m\n",
      "\u001b[0;31mKeyboardInterrupt\u001b[0m: "
     ]
    }
   ],
   "source": [
    "# --------------------------\n",
    "# 扫描目录并处理文件\n",
    "# --------------------------\n",
    "\n",
    "conn = sqlite3.connect(db_file)\n",
    "cursor = conn.cursor()\n",
    "\n",
    "for directory in dir_list:\n",
    "    # 搜索以“-mmsi.csv”结尾的文件\n",
    "    pattern = os.path.join(directory, \"*-mmsi.csv\")\n",
    "    file_list = glob(pattern)\n",
    "    \n",
    "    for file_path in file_list:\n",
    "        # 检查当前文件是否已经处理过\n",
    "        cursor.execute(\"SELECT 1 FROM processed_files WHERE filename = ?\", (file_path,))\n",
    "        if cursor.fetchone():\n",
    "            print(f\"File {file_path} 已经处理过，跳过。\")\n",
    "            continue\n",
    "        \n",
    "        print(f\"正在处理文件：{file_path}\")\n",
    "        try:\n",
    "            # 读取 CSV 文件\n",
    "            df = pd.read_csv(file_path, delimiter=\",\")\n",
    "        except Exception as e:\n",
    "            print(f\"读取文件 {file_path} 时出错：{e}\")\n",
    "            continue\n",
    "        \n",
    "        total_count = len(df)\n",
    "        error_count = 0\n",
    "        \n",
    "        # 遍历每一行记录，使用 tqdm 显示进度\n",
    "        for index, row in tqdm(df.iterrows(), total=total_count, desc=f\"处理 {os.path.basename(file_path)}\"):\n",
    "            mmsi = str(row['MMSI'])\n",
    "            # 尝试从数据库中查找该 MMSI 记录\n",
    "            cursor.execute(\"SELECT MsgId, ShipType, ShipName, Callsign FROM mmsi_records WHERE MMSI = ?\", (mmsi,))\n",
    "            result = cursor.fetchone()\n",
    "            \n",
    "            if result is None:\n",
    "                # 如果数据库中不存在该 MMSI，则直接插入\n",
    "                cursor.execute(\n",
    "                    \"INSERT INTO mmsi_records (MMSI, MsgId, ShipType, ShipName, Callsign) VALUES (?,?,?,?,?)\",\n",
    "                    (mmsi, str(row['MsgId']), str(row['ShipType']), str(row['ShipName']), str(row['Callsign']))\n",
    "                )\n",
    "            else:\n",
    "                # 如果已存在，则检查其他字段是否一致\n",
    "                db_msgid, db_shiptype, db_shipname, db_callsign = result\n",
    "                new_values = (str(row['MsgId']), str(row['ShipType']), str(row['ShipName']), str(row['Callsign']))\n",
    "                if (str(db_msgid), str(db_shiptype), str(db_shipname), str(db_callsign)) != new_values:\n",
    "                    error_count += 1\n",
    "                    \n",
    "        # 提交本次文件的记录更新\n",
    "        conn.commit()\n",
    "        \n",
    "        # 将当前文件标记为已处理\n",
    "        cursor.execute(\n",
    "            \"INSERT INTO processed_files (filename, error_count, total_count) VALUES (?,?,?)\",\n",
    "            (file_path, error_count, total_count)\n",
    "        )\n",
    "        conn.commit()\n",
    "        \n",
    "        error_ratio = error_count / total_count if total_count > 0 else 0\n",
    "        print(f\"文件 {file_path} 处理完毕：错误 {error_count}/{total_count}，错误率 {error_ratio:.2%}\")\n",
    "\n",
    "# 关闭数据库连接\n",
    "conn.close()"
   ]
  },
  {
   "cell_type": "code",
   "execution_count": 8,
   "metadata": {},
   "outputs": [
    {
     "name": "stdout",
     "output_type": "stream",
     "text": [
      "=== mmsi_records 表内容 ===\n",
      "             MMSI MsgId ShipType      ShipName Callsign\n",
      "0       244630581     5       79       AB ALIO   PG3902\n",
      "1       413459540     5       70  SHI  HUA  66     BQJI\n",
      "2       229353000     5       80    SEAEXPRESS  9HA3260\n",
      "3       416459000     5       74   UNI-PROSPER     BKHC\n",
      "4       413451640     5       60   SHENG HE 16      nan\n",
      "...           ...   ...      ...           ...      ...\n",
      "300481  503035630   24B       36           nan   JV100N\n",
      "300482  338389484   24B       37           nan   WDC965\n",
      "300483  412443619   24B       30           nan      nan\n",
      "300484  412449462   24B       30           nan   000000\n",
      "300485  431016712   24B       30           nan      nan\n",
      "\n",
      "[300486 rows x 5 columns]\n",
      "\n",
      "=== processed_files 表内容 ===\n",
      "                                            filename  error_count  total_count\n",
      "0  /mnt/nas/fan/ais_ripe_log/2022/01/STA/2022-01-...       156766       775992\n",
      "1  /mnt/nas/fan/ais_ripe_log/2022/01/STA/2022-01-...       169768       754908\n",
      "2  /mnt/nas/fan/ais_ripe_log/2022/01/STA/2022-01-...       169780       746147\n",
      "3  /mnt/nas/fan/ais_ripe_log/2022/01/STA/2022-01-...       173494       761861\n",
      "4  /mnt/nas/fan/ais_ripe_log/2022/01/STA/2022-01-...       181620       782790\n",
      "5  /mnt/nas/fan/ais_ripe_log/2022/01/STA/2022-01-...       184081       787683\n",
      "6  /mnt/nas/fan/ais_ripe_log/2022/01/STA/2022-01-...       178495       772118\n"
     ]
    }
   ],
   "source": [
    "# --------------------------\n",
    "# 查询数据库内容\n",
    "# --------------------------\n",
    "\n",
    "conn = sqlite3.connect(db_file)\n",
    "cursor = conn.cursor()\n",
    "\n",
    "# 查询并展示 mmsi_records 表中的所有内容\n",
    "df_records = pd.read_sql_query(\"SELECT * FROM mmsi_records\", conn)\n",
    "print(\"=== mmsi_records 表内容 ===\")\n",
    "print(df_records)\n",
    "\n",
    "# 查询并展示 processed_files 表中的所有内容\n",
    "df_processed = pd.read_sql_query(\"SELECT * FROM processed_files\", conn)\n",
    "print(\"\\n=== processed_files 表内容 ===\")\n",
    "print(df_processed)\n",
    "\n",
    "# 关闭数据库连接\n",
    "conn.close()"
   ]
  }
 ],
 "metadata": {
  "kernelspec": {
   "display_name": "ship",
   "language": "python",
   "name": "python3"
  },
  "language_info": {
   "codemirror_mode": {
    "name": "ipython",
    "version": 3
   },
   "file_extension": ".py",
   "mimetype": "text/x-python",
   "name": "python",
   "nbconvert_exporter": "python",
   "pygments_lexer": "ipython3",
   "version": "3.10.16"
  }
 },
 "nbformat": 4,
 "nbformat_minor": 2
}
