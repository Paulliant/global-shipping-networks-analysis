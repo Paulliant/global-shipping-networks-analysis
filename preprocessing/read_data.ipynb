{
 "cells": [
  {
   "cell_type": "code",
   "execution_count": 4,
   "metadata": {},
   "outputs": [
    {
     "name": "stderr",
     "output_type": "stream",
     "text": [
      "Processing lines: 100%|██████████| 314094558/314094558 [03:37<00:00, 1444393.76it/s]"
     ]
    },
    {
     "name": "stdout",
     "output_type": "stream",
     "text": [
      "Set A: {'1', '2'}\n",
      "各元素出现次数 (Set A):\n",
      "  1: 278365463\n",
      "  2: 35729095\n",
      "\n",
      "Set B: {'1'}\n",
      "各元素出现次数 (Set B):\n",
      "  1: 314094558\n"
     ]
    },
    {
     "name": "stderr",
     "output_type": "stream",
     "text": [
      "\n"
     ]
    }
   ],
   "source": [
    "import tarfile\n",
    "import os\n",
    "from tqdm import tqdm\n",
    "from collections import Counter\n",
    "\n",
    "source_file = \"/mnt/nas/fan/ais_ripe_log/2022/202201/ALL_OK_2022-01-01.tar.gz\"\n",
    "destination_dir = \"/mnt/nas/fan/ais_ripe_log/2022/01\"\n",
    "\n",
    "# # 如果目标目录不存在，则创建\n",
    "# os.makedirs(destination_dir, exist_ok=True)\n",
    "\n",
    "# # 打开并解压文件\n",
    "# with tarfile.open(source_file, \"r:gz\") as tar:\n",
    "#     tar.extractall(path=destination_dir)\n",
    "# print(\"解压完成\")\n",
    "\n",
    "file_path = os.path.join(destination_dir, \"ALL_OK_2022-01-01.dat\")\n",
    "\n",
    "counter_A = Counter()\n",
    "counter_B = Counter()\n",
    "\n",
    "# 计算文件总行数，用于 tqdm 进度条显示\n",
    "with open(file_path, 'r') as f:\n",
    "    total_lines = sum(1 for _ in f)\n",
    "\n",
    "with open(file_path, 'r') as f:\n",
    "    for line in tqdm(f, total=total_lines, desc=\"Processing lines\"):\n",
    "        line = line.strip()  # 去除首尾空白字符\n",
    "        if not line:  # 跳过空行\n",
    "            continue\n",
    "        parts = line.split('~')\n",
    "        if len(parts) < 2:\n",
    "            continue\n",
    "        counter_A[parts[0]] += 1\n",
    "        counter_B[parts[1]] += 1\n",
    "\n",
    "# 得到两个集合（去重后的键集合）\n",
    "set_A = set(counter_A.keys())\n",
    "set_B = set(counter_B.keys())\n",
    "\n",
    "print(\"Set A:\", set_A)\n",
    "print(\"各元素出现次数 (Set A):\")\n",
    "for key, count in counter_A.items():\n",
    "    print(f\"  {key}: {count}\")\n",
    "\n",
    "print(\"\\nSet B:\", set_B)\n",
    "print(\"各元素出现次数 (Set B):\")\n",
    "for key, count in counter_B.items():\n",
    "    print(f\"  {key}: {count}\")\n"
   ]
  }
 ],
 "metadata": {
  "kernelspec": {
   "display_name": "ship",
   "language": "python",
   "name": "python3"
  },
  "language_info": {
   "codemirror_mode": {
    "name": "ipython",
    "version": 3
   },
   "file_extension": ".py",
   "mimetype": "text/x-python",
   "name": "python",
   "nbconvert_exporter": "python",
   "pygments_lexer": "ipython3",
   "version": "3.10.16"
  }
 },
 "nbformat": 4,
 "nbformat_minor": 2
}
